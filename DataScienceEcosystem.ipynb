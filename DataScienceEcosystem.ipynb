{
 "cells": [
  {
   "cell_type": "markdown",
   "id": "92fcedde-1c32-415e-a723-7cb4f5039ccb",
   "metadata": {},
   "source": [
    "# Data Science Tools and Ecosystem\n",
    "In this notebook, Data Science Tools and Ecosystem are summarized."
   ]
  },
  {
   "cell_type": "markdown",
   "id": "28473640-9768-46b1-b3a9-571580e0e23b",
   "metadata": {},
   "source": [
    "Some of the popular languages that Data Scientists use are:\n",
    "1.Phython\n",
    "2.R\n",
    "3.SQL\n",
    "4.Scala\n",
    "5.Java"
   ]
  },
  {
   "cell_type": "markdown",
   "id": "3a4c9286-9546-4f6c-ab80-7a2cde9da413",
   "metadata": {},
   "source": [
    "Some of the commonly used libraries used by Data Scientists include:\n",
    "1.Pandas\n",
    "2.NumPy\n",
    "3.Matplotlib\n",
    "4.TensorFlow\n",
    "5.Matplotlib"
   ]
  },
  {
   "cell_type": "markdown",
   "id": "7eecb5b3-cc87-4ded-8899-684a9711d37e",
   "metadata": {},
   "source": [
    "Data Science Tools:\n",
    "1.Programming Languages:Phython,R\n",
    "2.Data Analysis and Manipulation:Pandas,NumPy,SQL\n",
    "3.Data Visualization:Matplotlib,Seaborn\n",
    "4.Machine Learning:Scikit-learn,TensorFlow\n",
    "5.Big Data:ApacheSpark,Hadoop"
   ]
  },
  {
   "cell_type": "markdown",
   "id": "7ab320dd-c1fb-4164-91af-40cc96df5cc2",
   "metadata": {},
   "source": [
    "### Below are a few examples of evaluating arithmetic expressions in Python:"
   ]
  },
  {
   "cell_type": "code",
   "execution_count": 3,
   "id": "144d97c0-5f27-4b63-a0b6-66e436898ed8",
   "metadata": {},
   "outputs": [
    {
     "data": {
      "text/plain": [
       "17"
      ]
     },
     "execution_count": 3,
     "metadata": {},
     "output_type": "execute_result"
    }
   ],
   "source": [
    "(3*4)+5\n",
    "# This a simple arithmetic expression to mutiply then add integers."
   ]
  }
 ],
 "metadata": {
  "kernelspec": {
   "display_name": "Python [conda env:base] *",
   "language": "python",
   "name": "conda-base-py"
  },
  "language_info": {
   "codemirror_mode": {
    "name": "ipython",
    "version": 3
   },
   "file_extension": ".py",
   "mimetype": "text/x-python",
   "name": "python",
   "nbconvert_exporter": "python",
   "pygments_lexer": "ipython3",
   "version": "3.12.7"
  }
 },
 "nbformat": 4,
 "nbformat_minor": 5
}
