{
 "cells": [
  {
   "cell_type": "markdown",
   "id": "92fcedde-1c32-415e-a723-7cb4f5039ccb",
   "metadata": {},
   "source": [
    "# Data Science Tools and Ecosystem\n",
    "In this notebook, Data Science Tools and Ecosystem are summarized."
   ]
  },
  {
   "cell_type": "markdown",
   "id": "26044fd2-b44e-4cae-9e01-9dd4e64d7f13",
   "metadata": {},
   "source": [
    "Some of the key takeaways from the course:\n",
    "Objectives:\n",
    "-List popular languages for Data Science\n",
    "-Commonly used Libraries for Data Science\n",
    "-Data Science Tools\n",
    "-Some Arithmetic Expressions"
   ]
  },
  {
   "cell_type": "markdown",
   "id": "28473640-9768-46b1-b3a9-571580e0e23b",
   "metadata": {},
   "source": [
    "Some of the popular languages that Data Scientists use are:\n",
    "1.Phython\n",
    "2.R\n",
    "3.SQL\n",
    "4.Scala\n",
    "5.Java"
   ]
  },
  {
   "cell_type": "markdown",
   "id": "3a4c9286-9546-4f6c-ab80-7a2cde9da413",
   "metadata": {},
   "source": [
    "Some of the commonly used libraries used by Data Scientists include:\n",
    "1.Pandas\n",
    "2.NumPy\n",
    "3.Matplotlib\n",
    "4.TensorFlow\n",
    "5.Matplotlib"
   ]
  },
  {
   "cell_type": "markdown",
   "id": "7eecb5b3-cc87-4ded-8899-684a9711d37e",
   "metadata": {},
   "source": [
    "Data Science Tools:\n",
    "1.Programming Languages:Phython,R\n",
    "2.Data Analysis and Manipulation:Pandas,NumPy,SQL\n",
    "3.Data Visualization:Matplotlib,Seaborn\n",
    "4.Machine Learning:Scikit-learn,TensorFlow\n",
    "5.Big Data:ApacheSpark,Hadoop"
   ]
  },
  {
   "cell_type": "markdown",
   "id": "7ab320dd-c1fb-4164-91af-40cc96df5cc2",
   "metadata": {},
   "source": [
    "### Below are a few examples of evaluating arithmetic expressions in Python:"
   ]
  },
  {
   "cell_type": "code",
   "execution_count": 3,
   "id": "144d97c0-5f27-4b63-a0b6-66e436898ed8",
   "metadata": {},
   "outputs": [
    {
     "data": {
      "text/plain": [
       "17"
      ]
     },
     "execution_count": 3,
     "metadata": {},
     "output_type": "execute_result"
    }
   ],
   "source": [
    "(3*4)+5\n",
    "# This a simple arithmetic expression to mutiply then add integers."
   ]
  },
  {
   "cell_type": "code",
   "execution_count": 5,
   "id": "14c92fa8-d38f-4a63-9c5e-7d40ef18fb9d",
   "metadata": {},
   "outputs": [
    {
     "data": {
      "text/plain": [
       "3.3333333333333335"
      ]
     },
     "execution_count": 5,
     "metadata": {},
     "output_type": "execute_result"
    }
   ],
   "source": [
    "# This will convert 200 minutes to hours by diving by 60:\n",
    "200/60\n"
   ]
  },
  {
   "cell_type": "code",
   "execution_count": null,
   "id": "c6b26d76-a2e6-49cd-9f9d-0a2be6f3c8a0",
   "metadata": {},
   "outputs": [],
   "source": []
  }
 ],
 "metadata": {
  "kernelspec": {
   "display_name": "Python [conda env:base] *",
   "language": "python",
   "name": "conda-base-py"
  },
  "language_info": {
   "codemirror_mode": {
    "name": "ipython",
    "version": 3
   },
   "file_extension": ".py",
   "mimetype": "text/x-python",
   "name": "python",
   "nbconvert_exporter": "python",
   "pygments_lexer": "ipython3",
   "version": "3.12.7"
  }
 },
 "nbformat": 4,
 "nbformat_minor": 5
}
